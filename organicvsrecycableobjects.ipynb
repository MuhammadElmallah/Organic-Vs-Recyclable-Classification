{
 "cells": [
  {
   "cell_type": "markdown",
   "id": "5cf0d187",
   "metadata": {
    "_cell_guid": "b1076dfc-b9ad-4769-8c92-a6c4dae69d19",
    "_uuid": "8f2839f25d086af736a60e9eeb907d3b93b6e0e5",
    "papermill": {
     "duration": 0.006625,
     "end_time": "2021-07-29T17:14:07.294918",
     "exception": false,
     "start_time": "2021-07-29T17:14:07.288293",
     "status": "completed"
    },
    "tags": []
   },
   "source": [
    "# In this notebook, we are trying to classify the waste we have into Organic an Recyclable objects. The dataset we will work on is divided into train data (85%) and test data (15%). Training data - 22564 images and  Test data - 2513 images."
   ]
  },
  {
   "cell_type": "markdown",
   "id": "85e79847",
   "metadata": {
    "papermill": {
     "duration": 0.005503,
     "end_time": "2021-07-29T17:14:07.306218",
     "exception": false,
     "start_time": "2021-07-29T17:14:07.300715",
     "status": "completed"
    },
    "tags": []
   },
   "source": [
    "In this notebook, we will have two model that we will compare there results.\n",
    "For the comparison to be logic, we will use 50 epochs for each model even if the model does needed more epochs to converge."
   ]
  },
  {
   "cell_type": "code",
   "execution_count": 1,
   "id": "852ea7c6",
   "metadata": {
    "execution": {
     "iopub.execute_input": "2021-07-29T17:14:07.328335Z",
     "iopub.status.busy": "2021-07-29T17:14:07.327394Z",
     "iopub.status.idle": "2021-07-29T17:14:11.677177Z",
     "shell.execute_reply": "2021-07-29T17:14:11.676470Z",
     "shell.execute_reply.started": "2021-07-29T16:40:17.716145Z"
    },
    "papermill": {
     "duration": 4.365611,
     "end_time": "2021-07-29T17:14:11.677349",
     "exception": false,
     "start_time": "2021-07-29T17:14:07.311738",
     "status": "completed"
    },
    "tags": []
   },
   "outputs": [],
   "source": [
    "# importing the libraries needed\n",
    "import os\n",
    "import tensorflow as tf"
   ]
  },
  {
   "cell_type": "code",
   "execution_count": 2,
   "id": "5aceea2a",
   "metadata": {
    "execution": {
     "iopub.execute_input": "2021-07-29T17:14:11.700483Z",
     "iopub.status.busy": "2021-07-29T17:14:11.699708Z",
     "iopub.status.idle": "2021-07-29T17:14:13.909336Z",
     "shell.execute_reply": "2021-07-29T17:14:13.908545Z",
     "shell.execute_reply.started": "2021-07-29T16:40:22.315347Z"
    },
    "papermill": {
     "duration": 2.225806,
     "end_time": "2021-07-29T17:14:13.909470",
     "exception": false,
     "start_time": "2021-07-29T17:14:11.683664",
     "status": "completed"
    },
    "tags": []
   },
   "outputs": [
    {
     "name": "stdout",
     "output_type": "stream",
     "text": [
      "Model: \"sequential\"\n",
      "_________________________________________________________________\n",
      "Layer (type)                 Output Shape              Param #   \n",
      "=================================================================\n",
      "conv2d (Conv2D)              (None, 148, 148, 64)      1792      \n",
      "_________________________________________________________________\n",
      "batch_normalization (BatchNo (None, 148, 148, 64)      256       \n",
      "_________________________________________________________________\n",
      "max_pooling2d (MaxPooling2D) (None, 74, 74, 64)        0         \n",
      "_________________________________________________________________\n",
      "conv2d_1 (Conv2D)            (None, 72, 72, 128)       73856     \n",
      "_________________________________________________________________\n",
      "batch_normalization_1 (Batch (None, 72, 72, 128)       512       \n",
      "_________________________________________________________________\n",
      "max_pooling2d_1 (MaxPooling2 (None, 36, 36, 128)       0         \n",
      "_________________________________________________________________\n",
      "conv2d_2 (Conv2D)            (None, 34, 34, 256)       295168    \n",
      "_________________________________________________________________\n",
      "batch_normalization_2 (Batch (None, 34, 34, 256)       1024      \n",
      "_________________________________________________________________\n",
      "max_pooling2d_2 (MaxPooling2 (None, 17, 17, 256)       0         \n",
      "_________________________________________________________________\n",
      "conv2d_3 (Conv2D)            (None, 15, 15, 512)       1180160   \n",
      "_________________________________________________________________\n",
      "batch_normalization_3 (Batch (None, 15, 15, 512)       2048      \n",
      "_________________________________________________________________\n",
      "max_pooling2d_3 (MaxPooling2 (None, 7, 7, 512)         0         \n",
      "_________________________________________________________________\n",
      "flatten (Flatten)            (None, 25088)             0         \n",
      "_________________________________________________________________\n",
      "dense (Dense)                (None, 512)               12845568  \n",
      "_________________________________________________________________\n",
      "dense_1 (Dense)              (None, 1)                 513       \n",
      "=================================================================\n",
      "Total params: 14,400,897\n",
      "Trainable params: 14,398,977\n",
      "Non-trainable params: 1,920\n",
      "_________________________________________________________________\n"
     ]
    }
   ],
   "source": [
    "# Define model 1\n",
    "model1 = tf.keras.Sequential([\n",
    "    tf.keras.layers.Conv2D(64, (3, 3), input_shape=(150, 150, 3)),\n",
    "    tf.keras.layers.BatchNormalization(),\n",
    "    tf.keras.layers.MaxPool2D(2),\n",
    "    tf.keras.layers.Conv2D(128, (3, 3)),\n",
    "    tf.keras.layers.BatchNormalization(),\n",
    "    tf.keras.layers.MaxPool2D(2),\n",
    "    tf.keras.layers.Conv2D(256, (3, 3)),\n",
    "    tf.keras.layers.BatchNormalization(),\n",
    "    tf.keras.layers.MaxPool2D(2),\n",
    "    tf.keras.layers.Conv2D(512, (3, 3)),\n",
    "    tf.keras.layers.BatchNormalization(),\n",
    "    tf.keras.layers.MaxPool2D(2),\n",
    "    tf.keras.layers.Flatten(),\n",
    "    tf.keras.layers.Dense(512, activation='relu'),\n",
    "    tf.keras.layers.Dense(1, activation='sigmoid')\n",
    "])\n",
    "\n",
    "model1.summary()\n",
    "model1.compile(optimizer=tf.keras.optimizers.Adam(learning_rate = 0.001), loss='binary_crossentropy', metrics=['accuracy'])"
   ]
  },
  {
   "cell_type": "code",
   "execution_count": 3,
   "id": "a92db179",
   "metadata": {
    "execution": {
     "iopub.execute_input": "2021-07-29T17:14:13.927766Z",
     "iopub.status.busy": "2021-07-29T17:14:13.927271Z",
     "iopub.status.idle": "2021-07-29T17:14:31.532552Z",
     "shell.execute_reply": "2021-07-29T17:14:31.533198Z",
     "shell.execute_reply.started": "2021-07-29T16:40:24.611430Z"
    },
    "papermill": {
     "duration": 17.617596,
     "end_time": "2021-07-29T17:14:31.533422",
     "exception": false,
     "start_time": "2021-07-29T17:14:13.915826",
     "status": "completed"
    },
    "tags": []
   },
   "outputs": [
    {
     "name": "stdout",
     "output_type": "stream",
     "text": [
      "Found 22564 images belonging to 2 classes.\n",
      "Found 2513 images belonging to 2 classes.\n"
     ]
    }
   ],
   "source": [
    "train_datgen = tf.keras.preprocessing.image.ImageDataGenerator(rescale = 1./255,\n",
    "                                                              rotation_range = 40,\n",
    "                                                              width_shift_range = 0.2,\n",
    "                                                              height_shift_range = 0.2,\n",
    "                                                              shear_range = 0.2,\n",
    "                                                              zoom_range = 0.2,\n",
    "                                                              horizontal_flip = True,\n",
    "                                                              fill_mode = 'nearest'\n",
    "                                                              )\n",
    "train_generator = train_datgen.flow_from_directory(\n",
    "    '../input/waste-classification-data/DATASET/TRAIN',\n",
    "    target_size=(150, 150),\n",
    "    batch_size = 32,\n",
    "    class_mode='binary'\n",
    "    \n",
    ")\n",
    "test_datgen = tf.keras.preprocessing.image.ImageDataGenerator(rescale = 1./255,\n",
    "                                                              )\n",
    "test_generator = test_datgen.flow_from_directory(\n",
    "    '../input/waste-classification-data/DATASET/TEST',\n",
    "    target_size=(150, 150),\n",
    "    batch_size = 32,\n",
    "    class_mode='binary'\n",
    "    \n",
    ")"
   ]
  },
  {
   "cell_type": "code",
   "execution_count": 4,
   "id": "96d7cf8a",
   "metadata": {
    "execution": {
     "iopub.execute_input": "2021-07-29T17:14:31.553294Z",
     "iopub.status.busy": "2021-07-29T17:14:31.552739Z",
     "iopub.status.idle": "2021-07-29T17:43:23.386384Z",
     "shell.execute_reply": "2021-07-29T17:43:23.386802Z",
     "shell.execute_reply.started": "2021-07-29T16:41:20.683707Z"
    },
    "papermill": {
     "duration": 1731.845306,
     "end_time": "2021-07-29T17:43:23.386979",
     "exception": false,
     "start_time": "2021-07-29T17:14:31.541673",
     "status": "completed"
    },
    "tags": []
   },
   "outputs": [
    {
     "name": "stderr",
     "output_type": "stream",
     "text": [
      "/opt/conda/lib/python3.7/site-packages/tensorflow/python/keras/engine/training.py:1844: UserWarning: `Model.fit_generator` is deprecated and will be removed in a future version. Please use `Model.fit`, which supports generators.\n",
      "  warnings.warn('`Model.fit_generator` is deprecated and '\n"
     ]
    },
    {
     "name": "stdout",
     "output_type": "stream",
     "text": [
      "Epoch 1/10\n",
      "706/706 [==============================] - 273s 377ms/step - loss: 1.7561 - accuracy: 0.7377 - val_loss: 0.4559 - val_accuracy: 0.8150\n",
      "Epoch 2/10\n",
      "706/706 [==============================] - 157s 223ms/step - loss: 0.4932 - accuracy: 0.7850 - val_loss: 0.4642 - val_accuracy: 0.8066\n",
      "Epoch 3/10\n",
      "706/706 [==============================] - 160s 226ms/step - loss: 0.4738 - accuracy: 0.7868 - val_loss: 0.5435 - val_accuracy: 0.7596\n",
      "Epoch 4/10\n",
      "706/706 [==============================] - 161s 227ms/step - loss: 0.5279 - accuracy: 0.7571 - val_loss: 0.4110 - val_accuracy: 0.8289\n",
      "Epoch 5/10\n",
      "706/706 [==============================] - 160s 227ms/step - loss: 0.4576 - accuracy: 0.7943 - val_loss: 0.5551 - val_accuracy: 0.7107\n",
      "Epoch 6/10\n",
      "706/706 [==============================] - 162s 230ms/step - loss: 0.4504 - accuracy: 0.8022 - val_loss: 0.4096 - val_accuracy: 0.8460\n",
      "Epoch 7/10\n",
      "706/706 [==============================] - 165s 233ms/step - loss: 0.4272 - accuracy: 0.8120 - val_loss: 0.3765 - val_accuracy: 0.8615\n",
      "Epoch 8/10\n",
      "706/706 [==============================] - 164s 232ms/step - loss: 0.4196 - accuracy: 0.8170 - val_loss: 0.3828 - val_accuracy: 0.8520\n",
      "Epoch 9/10\n",
      "706/706 [==============================] - 164s 233ms/step - loss: 0.4100 - accuracy: 0.8208 - val_loss: 0.3969 - val_accuracy: 0.8353\n",
      "Epoch 10/10\n",
      "706/706 [==============================] - 164s 232ms/step - loss: 0.4162 - accuracy: 0.8178 - val_loss: 0.3860 - val_accuracy: 0.8508\n"
     ]
    }
   ],
   "source": [
    "history = model1.fit_generator(train_generator, epochs=10, validation_data=test_generator)"
   ]
  },
  {
   "cell_type": "code",
   "execution_count": 5,
   "id": "87853c1a",
   "metadata": {
    "execution": {
     "iopub.execute_input": "2021-07-29T17:43:27.363838Z",
     "iopub.status.busy": "2021-07-29T17:43:27.146853Z",
     "iopub.status.idle": "2021-07-29T17:43:27.594132Z",
     "shell.execute_reply": "2021-07-29T17:43:27.594549Z",
     "shell.execute_reply.started": "2021-07-29T17:13:20.315352Z"
    },
    "papermill": {
     "duration": 2.355163,
     "end_time": "2021-07-29T17:43:27.594701",
     "exception": false,
     "start_time": "2021-07-29T17:43:25.239538",
     "status": "completed"
    },
    "tags": []
   },
   "outputs": [
    {
     "data": {
      "image/png": "[encoded data removed]",
      "text/plain": [
       "<Figure size 1080x1080 with 2 Axes>"
      ]
     },
     "metadata": {
      "needs_background": "light"
     },
     "output_type": "display_data"
    }
   ],
   "source": [
    "import matplotlib.pyplot as plt \n",
    "acc = history.history['accuracy']\n",
    "val_acc = history.history['val_accuracy']\n",
    "loss = history.history['loss']\n",
    "val_loss = history.history['val_loss']\n",
    "epochs_range = range(len(acc))\n",
    "\n",
    "plt.figure(figsize=(15, 15))\n",
    "plt.subplot(2, 2, 1)\n",
    "plt.plot(epochs_range, acc, label='Training Accuracy')\n",
    "plt.plot(epochs_range, val_acc, label='Validation Accuracy')\n",
    "plt.legend(loc='lower right')\n",
    "plt.title('Training and Validation Accuracy')\n",
    "\n",
    "plt.subplot(2, 2, 2)\n",
    "plt.plot(epochs_range, loss, label='Training Loss')\n",
    "plt.plot(epochs_range, val_loss, label='Validation Loss')\n",
    "plt.legend(loc='upper right')\n",
    "plt.title('Training and Validation Loss')\n",
    "plt.show()"
   ]
  },
  {
   "cell_type": "code",
   "execution_count": null,
   "id": "6202999d",
   "metadata": {
    "papermill": {
     "duration": 2.086568,
     "end_time": "2021-07-29T17:43:32.119859",
     "exception": false,
     "start_time": "2021-07-29T17:43:30.033291",
     "status": "completed"
    },
    "tags": []
   },
   "outputs": [],
   "source": []
  }
 ],
 "metadata": {
  "kernelspec": {
   "display_name": "Python 3",
   "language": "python",
   "name": "python3"
  },
  "language_info": {
   "codemirror_mode": {
    "name": "ipython",
    "version": 3
   },
   "file_extension": ".py",
   "mimetype": "text/x-python",
   "name": "python",
   "nbconvert_exporter": "python",
   "pygments_lexer": "ipython3",
   "version": "3.7.10"
  },
  "papermill": {
   "default_parameters": {},
   "duration": 1775.740374,
   "end_time": "2021-07-29T17:43:36.370283",
   "environment_variables": {},
   "exception": null,
   "input_path": "__notebook__.ipynb",
   "output_path": "__notebook__.ipynb",
   "parameters": {},
   "start_time": "2021-07-29T17:14:00.629909",
   "version": "2.3.3"
  }
 },
 "nbformat": 4,
 "nbformat_minor": 5
}
